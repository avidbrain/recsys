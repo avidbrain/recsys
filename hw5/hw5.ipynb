{
 "cells": [
  {
   "cell_type": "markdown",
   "id": "bce73814",
   "metadata": {},
   "source": [
    "# Рекомендательные системы"
   ]
  },
  {
   "cell_type": "markdown",
   "id": "45b9f297",
   "metadata": {},
   "source": [
    "## Урок 5. Ранжирование. Гибридные рекоммендательные системы"
   ]
  },
  {
   "cell_type": "markdown",
   "id": "bc8883e5",
   "metadata": {},
   "source": [
    "## Практическое задание: подбор параметров гибридной модели"
   ]
  },
  {
   "cell_type": "code",
   "execution_count": 1,
   "id": "35ae0f28",
   "metadata": {},
   "outputs": [],
   "source": [
    "import warnings\n",
    "warnings.simplefilter(action='ignore')"
   ]
  },
  {
   "cell_type": "code",
   "execution_count": 2,
   "id": "71ff1699",
   "metadata": {},
   "outputs": [],
   "source": [
    "import pandas as pd\n",
    "import numpy as np\n",
    "from scipy.sparse import bsr_matrix, csr_matrix\n",
    "from sklearn.model_selection import ParameterGrid\n",
    "from tqdm.notebook import tqdm"
   ]
  },
  {
   "cell_type": "code",
   "execution_count": 3,
   "id": "1e49b475",
   "metadata": {},
   "outputs": [],
   "source": [
    "from lightfm import LightFM"
   ]
  },
  {
   "cell_type": "code",
   "execution_count": 4,
   "id": "86bf2f19",
   "metadata": {},
   "outputs": [],
   "source": [
    "RETAIL_DATA = \"../hw2/retail_train.csv.zip\"\n",
    "PRODUCT_DATA = \"../hw2/product.csv\"\n",
    "DEMOGRAPHIC_DATA = \"hh_demographic.csv\""
   ]
  },
  {
   "cell_type": "markdown",
   "id": "df656016",
   "metadata": {},
   "source": [
    "### Библиотека"
   ]
  },
  {
   "cell_type": "code",
   "execution_count": 5,
   "id": "2fa335ac",
   "metadata": {},
   "outputs": [],
   "source": [
    "# Precision@K\n",
    "def precision_at_k(recommended_list, bought_list, k=5):\n",
    "    try:\n",
    "        _rec_list = recommended_list[:k]\n",
    "        _b_and_r = np.intersect1d(bought_list, _rec_list)\n",
    "        return _b_and_r.size / len(_rec_list)\n",
    "    except (ZeroDivisionError, TypeError):\n",
    "        return 0.0\n",
    "\n",
    "def mean_precision_at_k(df, rec, bought, k=5):\n",
    "    _result = df.apply(\n",
    "        lambda row: precision_at_k(row[rec], row[bought], k),\n",
    "        axis=1\n",
    "    )\n",
    "    return np.mean(_result)"
   ]
  },
  {
   "cell_type": "code",
   "execution_count": 6,
   "id": "d46c80b7",
   "metadata": {},
   "outputs": [],
   "source": [
    "def read_transform_csv(path, column_map={}, index=None):\n",
    "    columns = pd.read_csv(path, nrows=0).columns\n",
    "    _column_map = dict(zip(columns, columns.str.lower()))\n",
    "    _column_map.update(column_map)\n",
    "    _data = pd.read_csv(path).rename(columns=_column_map)\n",
    "    if index is not None:\n",
    "        return _data.set_index(index)    \n",
    "    return _data"
   ]
  },
  {
   "cell_type": "code",
   "execution_count": 7,
   "id": "51b954f9",
   "metadata": {},
   "outputs": [],
   "source": [
    "# Предфильтрация\n",
    "def prefilter_items(data, prevalence_range = (0.05, 0.95), price_range = (1.0, 100.0)):\n",
    "    # Уберем самые популярные товары и самые непопулярные товары\n",
    "    pop_thr, unpop_thr = prevalence_range\n",
    "    item_cum_counts = data['item_id'].value_counts().cumsum()\n",
    "    max_count = item_cum_counts.values[-1]\n",
    "    top_popular_mask = item_cum_counts < max_count * pop_thr\n",
    "    top_uppopular_mask = item_cum_counts > max_count * unpop_thr\n",
    "    blocked_items = item_cum_counts[top_popular_mask | top_uppopular_mask].index\n",
    "    \n",
    "    # Уберем товары, которые не продавались за последние 12 месяцев\n",
    "    recent_sale_items = data['item_id'][data['week_no'] > data['week_no'].max() - 53]\n",
    "    old_sale_items = np.setdiff1d(data['item_id'], recent_sale_items)\n",
    "    blocked_items = np.union1d(blocked_items, old_sale_items)\n",
    "    \n",
    "    # Уберем слишком дешевые товары и слишком дорогие товары\n",
    "    # Цена товара косвенно оценивается по sales_value\n",
    "    min_price, max_price = price_range\n",
    "    bad_price_items = (\n",
    "        data\n",
    "        .assign(price = lambda x: np.where(x['quantity'] > 0, x['sales_value'] / x['quantity'], 0.0))\n",
    "        .groupby('item_id')\n",
    "        .agg(min_item_price=('price', 'min'), max_item_price=('price', 'max'))\n",
    "        .query(\"min_item_price >= @max_price or max_item_price <= @min_price\")\n",
    "        .index\n",
    "    )\n",
    "    blocked_items = np.union1d(blocked_items, bad_price_items)\n",
    "    return data[~np.isin(data['item_id'], blocked_items)].copy()"
   ]
  },
  {
   "cell_type": "code",
   "execution_count": 8,
   "id": "6e0d8d81",
   "metadata": {},
   "outputs": [],
   "source": [
    "# Получаем вспомогательную таблицу со столбцами\n",
    "# User Index, Item Index, Interaction = Quantity Sum, User ID, Item ID,\n",
    "def get_user_item_interaction(data, aggcol, aggfunc):\n",
    "    agg_df = (\n",
    "        data.groupby(['user_id', 'item_id'])\n",
    "        .agg(interaction=(aggcol, aggfunc))\n",
    "        .reset_index()\n",
    "    )\n",
    "    unique_user_id = np.sort(agg_df['user_id'].unique())\n",
    "    unique_item_id = np.sort(agg_df['item_id'].unique())\n",
    "    user_id_idx = pd.DataFrame(enumerate(unique_user_id), columns=['user_idx', 'user_id'])\n",
    "    item_id_idx = pd.DataFrame(enumerate(unique_item_id), columns=['item_idx', 'item_id'])\n",
    "    return agg_df.merge(user_id_idx, on='user_id').merge(item_id_idx, on=\"item_id\")"
   ]
  },
  {
   "cell_type": "code",
   "execution_count": 9,
   "id": "67ca1df9",
   "metadata": {},
   "outputs": [],
   "source": [
    "def get_user_item_matrix(user_item_interaction):\n",
    "    interaction = user_item_interaction['interaction'].astype(float)\n",
    "    user_idx = user_item_interaction['user_idx']\n",
    "    item_idx = user_item_interaction['item_idx']\n",
    "    return bsr_matrix((interaction, (user_idx, item_idx)), \n",
    "                      shape=(user_idx.max()+1, item_idx.max()+1))"
   ]
  },
  {
   "cell_type": "code",
   "execution_count": 10,
   "id": "9676dae5",
   "metadata": {},
   "outputs": [],
   "source": [
    "def get_feature_dummies(user_item_interaction, features, on='user'):\n",
    "    ids = user_item_interaction.sort_values(f'{on}_idx')[f'{on}_id'].unique()\n",
    "    merged = pd.DataFrame(index=ids).join(features)\n",
    "    return pd.get_dummies(merged, columns=merged.columns.tolist())"
   ]
  },
  {
   "cell_type": "markdown",
   "id": "60807faf",
   "metadata": {},
   "source": [
    "### Данные"
   ]
  },
  {
   "cell_type": "code",
   "execution_count": 11,
   "id": "b093db04",
   "metadata": {},
   "outputs": [
    {
     "name": "stdout",
     "output_type": "stream",
     "text": [
      "Decreased # of items from 86865 to 6047\n",
      "Wall time: 6.28 s\n"
     ]
    }
   ],
   "source": [
    "%%time\n",
    "item_features = read_transform_csv(PRODUCT_DATA, {'PRODUCT_ID': 'item_id'}, index='item_id')\n",
    "user_features = read_transform_csv(DEMOGRAPHIC_DATA, {'household_key': 'user_id'}, index='user_id')\n",
    "\n",
    "# train test split\n",
    "data = pd.read_csv(RETAIL_DATA)\n",
    "test_size_weeks = 3\n",
    "data_train = data[data['week_no'] < data['week_no'].max() - test_size_weeks]\n",
    "data_test = data[data['week_no'] >= data['week_no'].max() - test_size_weeks]\n",
    "\n",
    "# Actual test items\n",
    "actual = data_test.groupby('user_id').agg(actual=('item_id', list))\n",
    "\n",
    "# Prefiltered\n",
    "data_train_filtered = prefilter_items(data_train, prevalence_range = (0.05, 0.75), price_range = (1.5, 50.0))\n",
    "\n",
    "user_item_interaction = get_user_item_interaction(data_train_filtered, 'quantity', 'count')\n",
    "user_item_matrix = get_user_item_matrix(user_item_interaction)\n",
    "\n",
    "# Признаки\n",
    "user_feature_dummies = get_feature_dummies(user_item_interaction, user_features, on='user')\n",
    "user_feature_csr = csr_matrix(user_feature_dummies.values)\n",
    "item_feature_dummies = get_feature_dummies(user_item_interaction, item_features, on='item')\n",
    "item_feature_csr = csr_matrix(item_feature_dummies.values)\n",
    "\n",
    "print(f\"Decreased # of items from {data_train['item_id'].nunique()} to {data_train_filtered['item_id'].nunique()}\")"
   ]
  },
  {
   "cell_type": "markdown",
   "id": "c57fb38d",
   "metadata": {},
   "source": [
    "### Модель"
   ]
  },
  {
   "cell_type": "code",
   "execution_count": 12,
   "id": "8c6e50b3",
   "metadata": {},
   "outputs": [
    {
     "data": {
      "application/vnd.jupyter.widget-view+json": {
       "model_id": "7a617104d7e7493da7e1254d436e4f95",
       "version_major": 2,
       "version_minor": 0
      },
      "text/plain": [
       "LightFM Grid Search:   0%|          | 0/144 [00:00<?, ?it/s]"
      ]
     },
     "metadata": {},
     "output_type": "display_data"
    },
    {
     "name": "stdout",
     "output_type": "stream",
     "text": [
      "Wall time: 6h 21min 34s\n"
     ]
    }
   ],
   "source": [
    "%%time\n",
    "# LightFM Grid Search\n",
    "model_param_grid = {\n",
    "    'no_components': [4, 10, 40],\n",
    "    'loss': ['logistic', 'bpr', 'warp'],\n",
    "    'learning_rate': [0.01],\n",
    "    'item_alpha': [0.001, 0.4],\n",
    "    'user_alpha': [0.001, 0.1],\n",
    "    'random_state': [42],\n",
    "    'k': [1, 5],\n",
    "    'n': [15],\n",
    "    'max_sampled': [10, 100]\n",
    "}\n",
    "grid_len = np.prod([len(v) for v in model_param_grid.values()])\n",
    "\n",
    "result = actual\n",
    "\n",
    "with tqdm(desc=\"LightFM Grid Search\", total=grid_len) as progress:\n",
    "    for prm in ParameterGrid(model_param_grid):\n",
    "        param_str = \", \".join(f\"{p}={repr(prm[p])}\" for p in model_param_grid)\n",
    "        model = LightFM(**prm)\n",
    "        model_name = f\"{model.__class__.__name__}({param_str})\"        \n",
    "        model.fit(\n",
    "            user_item_matrix.sign().tocsr(),  # 0/1\n",
    "            sample_weight=user_item_matrix.tocoo(),\n",
    "            user_features=user_feature_csr,\n",
    "            item_features=item_feature_csr,\n",
    "            epochs=20,\n",
    "            verbose=False\n",
    "        )\n",
    "        predict_score = model.predict(\n",
    "            user_ids = user_item_interaction['user_idx'].values,\n",
    "            item_ids = user_item_interaction['item_idx'].values,\n",
    "            user_features=user_feature_csr,\n",
    "            item_features=item_feature_csr,\n",
    "            num_threads=10\n",
    "        )\n",
    "        rec_df = (\n",
    "            user_item_interaction\n",
    "            .assign(score=predict_score)\n",
    "            .sort_values(['user_id', 'score'], ascending=(True, False))\n",
    "            .groupby('user_id')\n",
    "            .head(5)\n",
    "            .filter(['user_id', 'item_id'])\n",
    "            .groupby('user_id')\n",
    "            .agg(model_name=('item_id', list))\n",
    "            .rename(columns={'model_name': model_name})\n",
    "        )\n",
    "        result = result.join(rec_df)\n",
    "        progress.update(1)"
   ]
  },
  {
   "cell_type": "code",
   "execution_count": 14,
   "id": "82ca2c9e",
   "metadata": {},
   "outputs": [
    {
     "name": "stdout",
     "output_type": "stream",
     "text": [
      "Wall time: 26.3 s\n"
     ]
    },
    {
     "data": {
      "text/html": [
       "<style type=\"text/css\">\n",
       "#T_ecf2d_row0_col0, #T_ecf2d_row1_col0, #T_ecf2d_row2_col0, #T_ecf2d_row3_col0, #T_ecf2d_row4_col0, #T_ecf2d_row5_col0, #T_ecf2d_row6_col0, #T_ecf2d_row7_col0, #T_ecf2d_row8_col0, #T_ecf2d_row9_col0, #T_ecf2d_row10_col0, #T_ecf2d_row11_col0, #T_ecf2d_row12_col0, #T_ecf2d_row13_col0, #T_ecf2d_row14_col0, #T_ecf2d_row15_col0, #T_ecf2d_row16_col0, #T_ecf2d_row17_col0, #T_ecf2d_row18_col0, #T_ecf2d_row19_col0 {\n",
       "  width: 750px;\n",
       "}\n",
       "</style>\n",
       "<table id=\"T_ecf2d_\">\n",
       "  <thead>\n",
       "    <tr>\n",
       "      <th class=\"blank level0\" >&nbsp;</th>\n",
       "      <th class=\"col_heading level0 col0\" >model</th>\n",
       "      <th class=\"col_heading level0 col1\" >precision@5</th>\n",
       "    </tr>\n",
       "  </thead>\n",
       "  <tbody>\n",
       "    <tr>\n",
       "      <th id=\"T_ecf2d_level0_row0\" class=\"row_heading level0 row0\" >53</th>\n",
       "      <td id=\"T_ecf2d_row0_col0\" class=\"data row0 col0\" >LightFM(no_components=40, loss='bpr', learning_rate=0.01, item_alpha=0.001, user_alpha=0.1, random_state=42, k=5, n=15, max_sampled=10)</td>\n",
       "      <td id=\"T_ecf2d_row0_col1\" class=\"data row0 col1\" >0.136974</td>\n",
       "    </tr>\n",
       "    <tr>\n",
       "      <th id=\"T_ecf2d_level0_row1\" class=\"row_heading level0 row1\" >23</th>\n",
       "      <td id=\"T_ecf2d_row1_col0\" class=\"data row1 col0\" >LightFM(no_components=40, loss='bpr', learning_rate=0.01, item_alpha=0.001, user_alpha=0.1, random_state=42, k=1, n=15, max_sampled=100)</td>\n",
       "      <td id=\"T_ecf2d_row1_col1\" class=\"data row1 col1\" >0.136974</td>\n",
       "    </tr>\n",
       "    <tr>\n",
       "      <th id=\"T_ecf2d_level0_row2\" class=\"row_heading level0 row2\" >59</th>\n",
       "      <td id=\"T_ecf2d_row2_col0\" class=\"data row2 col0\" >LightFM(no_components=40, loss='bpr', learning_rate=0.01, item_alpha=0.001, user_alpha=0.1, random_state=42, k=5, n=15, max_sampled=100)</td>\n",
       "      <td id=\"T_ecf2d_row2_col1\" class=\"data row2 col1\" >0.136974</td>\n",
       "    </tr>\n",
       "    <tr>\n",
       "      <th id=\"T_ecf2d_level0_row3\" class=\"row_heading level0 row3\" >17</th>\n",
       "      <td id=\"T_ecf2d_row3_col0\" class=\"data row3 col0\" >LightFM(no_components=40, loss='bpr', learning_rate=0.01, item_alpha=0.001, user_alpha=0.1, random_state=42, k=1, n=15, max_sampled=10)</td>\n",
       "      <td id=\"T_ecf2d_row3_col1\" class=\"data row3 col1\" >0.136974</td>\n",
       "    </tr>\n",
       "    <tr>\n",
       "      <th id=\"T_ecf2d_level0_row4\" class=\"row_heading level0 row4\" >22</th>\n",
       "      <td id=\"T_ecf2d_row4_col0\" class=\"data row4 col0\" >LightFM(no_components=40, loss='bpr', learning_rate=0.01, item_alpha=0.001, user_alpha=0.001, random_state=42, k=1, n=15, max_sampled=100)</td>\n",
       "      <td id=\"T_ecf2d_row4_col1\" class=\"data row4 col1\" >0.135504</td>\n",
       "    </tr>\n",
       "    <tr>\n",
       "      <th id=\"T_ecf2d_level0_row5\" class=\"row_heading level0 row5\" >52</th>\n",
       "      <td id=\"T_ecf2d_row5_col0\" class=\"data row5 col0\" >LightFM(no_components=40, loss='bpr', learning_rate=0.01, item_alpha=0.001, user_alpha=0.001, random_state=42, k=5, n=15, max_sampled=10)</td>\n",
       "      <td id=\"T_ecf2d_row5_col1\" class=\"data row5 col1\" >0.135504</td>\n",
       "    </tr>\n",
       "    <tr>\n",
       "      <th id=\"T_ecf2d_level0_row6\" class=\"row_heading level0 row6\" >58</th>\n",
       "      <td id=\"T_ecf2d_row6_col0\" class=\"data row6 col0\" >LightFM(no_components=40, loss='bpr', learning_rate=0.01, item_alpha=0.001, user_alpha=0.001, random_state=42, k=5, n=15, max_sampled=100)</td>\n",
       "      <td id=\"T_ecf2d_row6_col1\" class=\"data row6 col1\" >0.135504</td>\n",
       "    </tr>\n",
       "    <tr>\n",
       "      <th id=\"T_ecf2d_level0_row7\" class=\"row_heading level0 row7\" >16</th>\n",
       "      <td id=\"T_ecf2d_row7_col0\" class=\"data row7 col0\" >LightFM(no_components=40, loss='bpr', learning_rate=0.01, item_alpha=0.001, user_alpha=0.001, random_state=42, k=1, n=15, max_sampled=10)</td>\n",
       "      <td id=\"T_ecf2d_row7_col1\" class=\"data row7 col1\" >0.135504</td>\n",
       "    </tr>\n",
       "    <tr>\n",
       "      <th id=\"T_ecf2d_level0_row8\" class=\"row_heading level0 row8\" >15</th>\n",
       "      <td id=\"T_ecf2d_row8_col0\" class=\"data row8 col0\" >LightFM(no_components=10, loss='bpr', learning_rate=0.01, item_alpha=0.001, user_alpha=0.1, random_state=42, k=1, n=15, max_sampled=10)</td>\n",
       "      <td id=\"T_ecf2d_row8_col1\" class=\"data row8 col1\" >0.135406</td>\n",
       "    </tr>\n",
       "    <tr>\n",
       "      <th id=\"T_ecf2d_level0_row9\" class=\"row_heading level0 row9\" >51</th>\n",
       "      <td id=\"T_ecf2d_row9_col0\" class=\"data row9 col0\" >LightFM(no_components=10, loss='bpr', learning_rate=0.01, item_alpha=0.001, user_alpha=0.1, random_state=42, k=5, n=15, max_sampled=10)</td>\n",
       "      <td id=\"T_ecf2d_row9_col1\" class=\"data row9 col1\" >0.135406</td>\n",
       "    </tr>\n",
       "    <tr>\n",
       "      <th id=\"T_ecf2d_level0_row10\" class=\"row_heading level0 row10\" >57</th>\n",
       "      <td id=\"T_ecf2d_row10_col0\" class=\"data row10 col0\" >LightFM(no_components=10, loss='bpr', learning_rate=0.01, item_alpha=0.001, user_alpha=0.1, random_state=42, k=5, n=15, max_sampled=100)</td>\n",
       "      <td id=\"T_ecf2d_row10_col1\" class=\"data row10 col1\" >0.135406</td>\n",
       "    </tr>\n",
       "    <tr>\n",
       "      <th id=\"T_ecf2d_level0_row11\" class=\"row_heading level0 row11\" >21</th>\n",
       "      <td id=\"T_ecf2d_row11_col0\" class=\"data row11 col0\" >LightFM(no_components=10, loss='bpr', learning_rate=0.01, item_alpha=0.001, user_alpha=0.1, random_state=42, k=1, n=15, max_sampled=100)</td>\n",
       "      <td id=\"T_ecf2d_row11_col1\" class=\"data row11 col1\" >0.135406</td>\n",
       "    </tr>\n",
       "    <tr>\n",
       "      <th id=\"T_ecf2d_level0_row12\" class=\"row_heading level0 row12\" >19</th>\n",
       "      <td id=\"T_ecf2d_row12_col0\" class=\"data row12 col0\" >LightFM(no_components=4, loss='bpr', learning_rate=0.01, item_alpha=0.001, user_alpha=0.1, random_state=42, k=1, n=15, max_sampled=100)</td>\n",
       "      <td id=\"T_ecf2d_row12_col1\" class=\"data row12 col1\" >0.135015</td>\n",
       "    </tr>\n",
       "    <tr>\n",
       "      <th id=\"T_ecf2d_level0_row13\" class=\"row_heading level0 row13\" >49</th>\n",
       "      <td id=\"T_ecf2d_row13_col0\" class=\"data row13 col0\" >LightFM(no_components=4, loss='bpr', learning_rate=0.01, item_alpha=0.001, user_alpha=0.1, random_state=42, k=5, n=15, max_sampled=10)</td>\n",
       "      <td id=\"T_ecf2d_row13_col1\" class=\"data row13 col1\" >0.135015</td>\n",
       "    </tr>\n",
       "    <tr>\n",
       "      <th id=\"T_ecf2d_level0_row14\" class=\"row_heading level0 row14\" >13</th>\n",
       "      <td id=\"T_ecf2d_row14_col0\" class=\"data row14 col0\" >LightFM(no_components=4, loss='bpr', learning_rate=0.01, item_alpha=0.001, user_alpha=0.1, random_state=42, k=1, n=15, max_sampled=10)</td>\n",
       "      <td id=\"T_ecf2d_row14_col1\" class=\"data row14 col1\" >0.135015</td>\n",
       "    </tr>\n",
       "    <tr>\n",
       "      <th id=\"T_ecf2d_level0_row15\" class=\"row_heading level0 row15\" >55</th>\n",
       "      <td id=\"T_ecf2d_row15_col0\" class=\"data row15 col0\" >LightFM(no_components=4, loss='bpr', learning_rate=0.01, item_alpha=0.001, user_alpha=0.1, random_state=42, k=5, n=15, max_sampled=100)</td>\n",
       "      <td id=\"T_ecf2d_row15_col1\" class=\"data row15 col1\" >0.135015</td>\n",
       "    </tr>\n",
       "    <tr>\n",
       "      <th id=\"T_ecf2d_level0_row16\" class=\"row_heading level0 row16\" >48</th>\n",
       "      <td id=\"T_ecf2d_row16_col0\" class=\"data row16 col0\" >LightFM(no_components=4, loss='bpr', learning_rate=0.01, item_alpha=0.001, user_alpha=0.001, random_state=42, k=5, n=15, max_sampled=10)</td>\n",
       "      <td id=\"T_ecf2d_row16_col1\" class=\"data row16 col1\" >0.134917</td>\n",
       "    </tr>\n",
       "    <tr>\n",
       "      <th id=\"T_ecf2d_level0_row17\" class=\"row_heading level0 row17\" >12</th>\n",
       "      <td id=\"T_ecf2d_row17_col0\" class=\"data row17 col0\" >LightFM(no_components=4, loss='bpr', learning_rate=0.01, item_alpha=0.001, user_alpha=0.001, random_state=42, k=1, n=15, max_sampled=10)</td>\n",
       "      <td id=\"T_ecf2d_row17_col1\" class=\"data row17 col1\" >0.134917</td>\n",
       "    </tr>\n",
       "    <tr>\n",
       "      <th id=\"T_ecf2d_level0_row18\" class=\"row_heading level0 row18\" >54</th>\n",
       "      <td id=\"T_ecf2d_row18_col0\" class=\"data row18 col0\" >LightFM(no_components=4, loss='bpr', learning_rate=0.01, item_alpha=0.001, user_alpha=0.001, random_state=42, k=5, n=15, max_sampled=100)</td>\n",
       "      <td id=\"T_ecf2d_row18_col1\" class=\"data row18 col1\" >0.134917</td>\n",
       "    </tr>\n",
       "    <tr>\n",
       "      <th id=\"T_ecf2d_level0_row19\" class=\"row_heading level0 row19\" >18</th>\n",
       "      <td id=\"T_ecf2d_row19_col0\" class=\"data row19 col0\" >LightFM(no_components=4, loss='bpr', learning_rate=0.01, item_alpha=0.001, user_alpha=0.001, random_state=42, k=1, n=15, max_sampled=100)</td>\n",
       "      <td id=\"T_ecf2d_row19_col1\" class=\"data row19 col1\" >0.134917</td>\n",
       "    </tr>\n",
       "  </tbody>\n",
       "</table>\n"
      ],
      "text/plain": [
       "<pandas.io.formats.style.Styler at 0x2835bffc820>"
      ]
     },
     "execution_count": 14,
     "metadata": {},
     "output_type": "execute_result"
    }
   ],
   "source": [
    "%%time\n",
    "# Выбираем лучшие параметры по precision@5\n",
    "gen_metrics = (\n",
    "    (model_name, mean_precision_at_k(result, model_name, 'actual'))\n",
    "    for model_name in result.columns[1:]\n",
    ")\n",
    "(\n",
    "    pd.DataFrame(gen_metrics, columns=['model', 'precision@5'])\n",
    "    .sort_values('precision@5', ascending=False)\n",
    "    .head(20)\n",
    "    .style.set_properties(subset=['model'], width='750px')\n",
    ")"
   ]
  },
  {
   "cell_type": "code",
   "execution_count": null,
   "id": "1ee5c669",
   "metadata": {},
   "outputs": [],
   "source": []
  }
 ],
 "metadata": {
  "kernelspec": {
   "display_name": "Python 3 (ipykernel)",
   "language": "python",
   "name": "python3"
  },
  "language_info": {
   "codemirror_mode": {
    "name": "ipython",
    "version": 3
   },
   "file_extension": ".py",
   "mimetype": "text/x-python",
   "name": "python",
   "nbconvert_exporter": "python",
   "pygments_lexer": "ipython3",
   "version": "3.8.6"
  }
 },
 "nbformat": 4,
 "nbformat_minor": 5
}
