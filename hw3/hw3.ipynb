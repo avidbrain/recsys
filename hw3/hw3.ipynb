{
 "cells": [
  {
   "cell_type": "markdown",
   "id": "1eba80ad",
   "metadata": {},
   "source": [
    "# Рекомендательные системы"
   ]
  },
  {
   "cell_type": "markdown",
   "id": "e97a204f",
   "metadata": {},
   "source": [
    "## Урок 3. Коллаборативная фильтрация"
   ]
  },
  {
   "cell_type": "markdown",
   "id": "8fc791e3",
   "metadata": {},
   "source": [
    "### Подготовка к проекту. Постановка задачи"
   ]
  },
  {
   "cell_type": "markdown",
   "id": "be84c511",
   "metadata": {},
   "source": [
    "*Примечание: пока не сделал, надеюсь вернуться к вопросам/ гипотезам позже. Пока просто констатирую постановку задачи.*"
   ]
  },
  {
   "cell_type": "markdown",
   "id": "a2cde785",
   "metadata": {},
   "source": [
    "Задача:\n",
    "- создать и внедрить рекомендательную систему для рассылок клиентам\n",
    "- цель: росты выручки на 6% за 4 месяца кампании, рост retention на 3% и среднего чека на 3%\n",
    "- рассылки будут получать 5% клиентов через email, 20% клиентов через push-уведомления, все оффлайн клиенты на чеке\n",
    "- в рассылке будет 5 товаров: 3 акционных, 1 новый, 1 для роста среднего чека\n",
    "\n",
    "    "
   ]
  },
  {
   "cell_type": "markdown",
   "id": "c0e2a5f8",
   "metadata": {},
   "source": [
    "### Практическая часть. ALS Grid Search"
   ]
  },
  {
   "cell_type": "code",
   "execution_count": 1,
   "id": "b034def3",
   "metadata": {},
   "outputs": [],
   "source": [
    "import pandas as pd\n",
    "import numpy as np\n",
    "from scipy.sparse import bsr_matrix\n",
    "\n",
    "from implicit.als import AlternatingLeastSquares\n",
    "\n",
    "from sklearn.model_selection import ParameterGrid"
   ]
  },
  {
   "cell_type": "code",
   "execution_count": 2,
   "id": "8209099e",
   "metadata": {},
   "outputs": [],
   "source": [
    "from tqdm.notebook import tqdm"
   ]
  },
  {
   "cell_type": "code",
   "execution_count": 3,
   "id": "4dbe30f9",
   "metadata": {},
   "outputs": [],
   "source": [
    "# Precision@K\n",
    "def precision_at_k(recommended_list, bought_list, k=5):\n",
    "    try:\n",
    "        _rec_list = recommended_list[:k]\n",
    "        _b_and_r = np.intersect1d(bought_list, _rec_list)\n",
    "        return _b_and_r.size / len(_rec_list)\n",
    "    except (ZeroDivisionError, TypeError):\n",
    "        return 0.0\n",
    "\n",
    "def mean_precision_at_k(df, rec, bought, k=5):\n",
    "    _result = df.apply(\n",
    "        lambda row: precision_at_k(row[rec], row[bought], k),\n",
    "        axis=1\n",
    "    )\n",
    "    return np.mean(_result)"
   ]
  },
  {
   "cell_type": "raw",
   "id": "45a3997e",
   "metadata": {},
   "source": [
    "# Подготовка данных (один раз)\n",
    "(\n",
    "    pd.read_csv('transaction_data.csv',\n",
    "                skiprows=1,\n",
    "                usecols=[0, 3, 4, 5, 9],\n",
    "                names=['user_id', 'item_id', 'quantity', 'sales_value', 'week_no'])\n",
    "    .to_csv('transaction_data_filtered.csv.zip', index=False)\n",
    ")"
   ]
  },
  {
   "cell_type": "code",
   "execution_count": 4,
   "id": "f6b18fa7",
   "metadata": {},
   "outputs": [
    {
     "data": {
      "text/plain": [
       "(2595732, 5)"
      ]
     },
     "execution_count": 4,
     "metadata": {},
     "output_type": "execute_result"
    }
   ],
   "source": [
    "data = pd.read_csv('transaction_data_filtered.csv.zip')\n",
    "data.shape"
   ]
  },
  {
   "cell_type": "code",
   "execution_count": 5,
   "id": "60c8fecc",
   "metadata": {},
   "outputs": [],
   "source": [
    "# train-test split\n",
    "test_size_weeks = 3\n",
    "data_train = data[data['week_no'] < data['week_no'].max() - test_size_weeks]\n",
    "data_test = data[data['week_no'] >= data['week_no'].max() - test_size_weeks]"
   ]
  },
  {
   "cell_type": "code",
   "execution_count": 6,
   "id": "2e5b1878",
   "metadata": {},
   "outputs": [
    {
     "data": {
      "text/plain": [
       "(1991, 1)"
      ]
     },
     "execution_count": 6,
     "metadata": {},
     "output_type": "execute_result"
    }
   ],
   "source": [
    "# Actual test items\n",
    "actual = data_test.groupby('user_id').agg(actual=('item_id', list))\n",
    "actual.shape"
   ]
  },
  {
   "cell_type": "code",
   "execution_count": 7,
   "id": "d37bc746",
   "metadata": {},
   "outputs": [
    {
     "name": "stdout",
     "output_type": "stream",
     "text": [
      "Wall time: 994 ms\n"
     ]
    }
   ],
   "source": [
    "%%time\n",
    "# Матрица USER/ITEM\n",
    "# Оставим только транзакции с товарами, входящими в Top-5000\n",
    "top_5000 = data_train.groupby('item_id').agg(n_sold=('quantity', 'sum')).nlargest(5000, 'n_sold')\n",
    "\n",
    "user_item_df = (\n",
    "    data_train[data_train['item_id'].isin(top_5000.index)]\n",
    "    .groupby(['user_id', 'item_id'])\n",
    "    .agg({'quantity': 'count'})\n",
    "    .reset_index()\n",
    ")\n",
    "\n",
    "# Мапинг user_id / item_id -> индекс строки / столбца матрицы и обратно\n",
    "def get_index_maps(series):\n",
    "    _direct = dict(enumerate(series.unique()))\n",
    "    _reverse = {id: i for i, id in _direct.items()}\n",
    "    return _direct, _reverse\n",
    "\n",
    "to_uid, from_uid = get_index_maps(user_item_df['user_id'])\n",
    "to_iid, from_iid = get_index_maps(user_item_df['item_id'])\n",
    "iid_array = np.array(list(to_iid.values()))\n",
    "\n",
    "user_item_matrix = bsr_matrix(\n",
    "    (user_item_df['quantity'].astype(float),  # data\n",
    "     (user_item_df['user_id'].map(from_uid),  # row\n",
    "      user_item_df['item_id'].map(from_iid))),  # col\n",
    "    shape=(len(from_uid), len(from_iid)))\n",
    "\n",
    "sparse_user_item = user_item_matrix.tocsr()\n",
    "sparse_item_user = user_item_matrix.T.tocsr()"
   ]
  },
  {
   "cell_type": "code",
   "execution_count": 8,
   "id": "a18168fb",
   "metadata": {},
   "outputs": [
    {
     "data": {
      "application/vnd.jupyter.widget-view+json": {
       "model_id": "6ed48f3de35d42829d51ec8a5af73c44",
       "version_major": 2,
       "version_minor": 0
      },
      "text/plain": [
       "ALS Grid Search:   0%|          | 0/54 [00:00<?, ?it/s]"
      ]
     },
     "metadata": {},
     "output_type": "display_data"
    },
    {
     "name": "stdout",
     "output_type": "stream",
     "text": [
      "Wall time: 4min 48s\n"
     ]
    }
   ],
   "source": [
    "%%time\n",
    "# ALS Grid Search\n",
    "als_param_grid = {\n",
    "    'factors': [2, 3, 4, 8, 16, 32],\n",
    "    'regularization': [0, 0.01, 0.05],\n",
    "    'iterations': [10, 15, 20]\n",
    "}\n",
    "grid_len = np.prod([len(v) for v in als_param_grid.values()])\n",
    "\n",
    "result = actual\n",
    "\n",
    "with tqdm(desc=\"ALS Grid Search\", total=grid_len) as progress:\n",
    "    for prm in ParameterGrid(als_param_grid):\n",
    "        model_name = (\n",
    "            f\"AlternatingLeastSquares(factors={prm['factors']}, \"\n",
    "            f\"regularization={prm['regularization']}, \"\n",
    "            f\"iterations={prm['iterations']})\"\n",
    "        )\n",
    "        model = AlternatingLeastSquares(**prm)\n",
    "        model.fit(sparse_item_user, show_progress=False)\n",
    "        fast_recs = model.user_factors @ model.item_factors.T\n",
    "        rec_matrix = iid_array[np.argsort(-fast_recs)[:, :5]]\n",
    "        rec_df = pd.DataFrame.from_records(\n",
    "            np.expand_dims(rec_matrix, axis=1),\n",
    "            columns = [model_name],\n",
    "            index = from_uid\n",
    "        )\n",
    "        result = result.join(rec_df)\n",
    "        progress.update(1)"
   ]
  },
  {
   "cell_type": "code",
   "execution_count": 9,
   "id": "1d8950a8",
   "metadata": {},
   "outputs": [
    {
     "name": "stdout",
     "output_type": "stream",
     "text": [
      "Wall time: 13.9 s\n"
     ]
    }
   ],
   "source": [
    "%%time\n",
    "# Выбираем лучшие параметры по precision@5\n",
    "precision_df = pd.DataFrame(\n",
    "    ((model_name, mean_precision_at_k(result, model_name, 'actual'))\n",
    "     for model_name in result.columns[1:]),\n",
    "    columns=['model', 'precision@5']\n",
    ")"
   ]
  },
  {
   "cell_type": "code",
   "execution_count": 10,
   "id": "ba75416f",
   "metadata": {},
   "outputs": [
    {
     "data": {
      "text/html": [
       "<style type=\"text/css\">\n",
       "#T_74358_row0_col0, #T_74358_row1_col0, #T_74358_row2_col0, #T_74358_row3_col0, #T_74358_row4_col0, #T_74358_row5_col0, #T_74358_row6_col0, #T_74358_row7_col0, #T_74358_row8_col0, #T_74358_row9_col0 {\n",
       "  width: 450px;\n",
       "}\n",
       "</style>\n",
       "<table id=\"T_74358_\">\n",
       "  <thead>\n",
       "    <tr>\n",
       "      <th class=\"blank level0\" >&nbsp;</th>\n",
       "      <th class=\"col_heading level0 col0\" >model</th>\n",
       "      <th class=\"col_heading level0 col1\" >precision@5</th>\n",
       "    </tr>\n",
       "  </thead>\n",
       "  <tbody>\n",
       "    <tr>\n",
       "      <th id=\"T_74358_level0_row0\" class=\"row_heading level0 row0\" >9</th>\n",
       "      <td id=\"T_74358_row0_col0\" class=\"data row0 col0\" >AlternatingLeastSquares(factors=3, regularization=0, iterations=10)</td>\n",
       "      <td id=\"T_74358_row0_col1\" class=\"data row0 col1\" >0.202612</td>\n",
       "    </tr>\n",
       "    <tr>\n",
       "      <th id=\"T_74358_level0_row1\" class=\"row_heading level0 row1\" >12</th>\n",
       "      <td id=\"T_74358_row1_col0\" class=\"data row1 col0\" >AlternatingLeastSquares(factors=3, regularization=0, iterations=15)</td>\n",
       "      <td id=\"T_74358_row1_col1\" class=\"data row1 col1\" >0.202310</td>\n",
       "    </tr>\n",
       "    <tr>\n",
       "      <th id=\"T_74358_level0_row2\" class=\"row_heading level0 row2\" >15</th>\n",
       "      <td id=\"T_74358_row2_col0\" class=\"data row2 col0\" >AlternatingLeastSquares(factors=3, regularization=0, iterations=20)</td>\n",
       "      <td id=\"T_74358_row2_col1\" class=\"data row2 col1\" >0.201507</td>\n",
       "    </tr>\n",
       "    <tr>\n",
       "      <th id=\"T_74358_level0_row3\" class=\"row_heading level0 row3\" >14</th>\n",
       "      <td id=\"T_74358_row3_col0\" class=\"data row3 col0\" >AlternatingLeastSquares(factors=3, regularization=0.05, iterations=15)</td>\n",
       "      <td id=\"T_74358_row3_col1\" class=\"data row3 col1\" >0.201406</td>\n",
       "    </tr>\n",
       "    <tr>\n",
       "      <th id=\"T_74358_level0_row4\" class=\"row_heading level0 row4\" >47</th>\n",
       "      <td id=\"T_74358_row4_col0\" class=\"data row4 col0\" >AlternatingLeastSquares(factors=32, regularization=0.05, iterations=10)</td>\n",
       "      <td id=\"T_74358_row4_col1\" class=\"data row4 col1\" >0.201005</td>\n",
       "    </tr>\n",
       "    <tr>\n",
       "      <th id=\"T_74358_level0_row5\" class=\"row_heading level0 row5\" >17</th>\n",
       "      <td id=\"T_74358_row5_col0\" class=\"data row5 col0\" >AlternatingLeastSquares(factors=3, regularization=0.05, iterations=20)</td>\n",
       "      <td id=\"T_74358_row5_col1\" class=\"data row5 col1\" >0.200703</td>\n",
       "    </tr>\n",
       "    <tr>\n",
       "      <th id=\"T_74358_level0_row6\" class=\"row_heading level0 row6\" >23</th>\n",
       "      <td id=\"T_74358_row6_col0\" class=\"data row6 col0\" >AlternatingLeastSquares(factors=4, regularization=0.05, iterations=15)</td>\n",
       "      <td id=\"T_74358_row6_col1\" class=\"data row6 col1\" >0.200100</td>\n",
       "    </tr>\n",
       "    <tr>\n",
       "      <th id=\"T_74358_level0_row7\" class=\"row_heading level0 row7\" >21</th>\n",
       "      <td id=\"T_74358_row7_col0\" class=\"data row7 col0\" >AlternatingLeastSquares(factors=4, regularization=0, iterations=15)</td>\n",
       "      <td id=\"T_74358_row7_col1\" class=\"data row7 col1\" >0.200000</td>\n",
       "    </tr>\n",
       "    <tr>\n",
       "      <th id=\"T_74358_level0_row8\" class=\"row_heading level0 row8\" >22</th>\n",
       "      <td id=\"T_74358_row8_col0\" class=\"data row8 col0\" >AlternatingLeastSquares(factors=4, regularization=0.01, iterations=15)</td>\n",
       "      <td id=\"T_74358_row8_col1\" class=\"data row8 col1\" >0.199297</td>\n",
       "    </tr>\n",
       "    <tr>\n",
       "      <th id=\"T_74358_level0_row9\" class=\"row_heading level0 row9\" >16</th>\n",
       "      <td id=\"T_74358_row9_col0\" class=\"data row9 col0\" >AlternatingLeastSquares(factors=3, regularization=0.01, iterations=20)</td>\n",
       "      <td id=\"T_74358_row9_col1\" class=\"data row9 col1\" >0.198895</td>\n",
       "    </tr>\n",
       "  </tbody>\n",
       "</table>\n"
      ],
      "text/plain": [
       "<pandas.io.formats.style.Styler at 0x29042c60310>"
      ]
     },
     "execution_count": 10,
     "metadata": {},
     "output_type": "execute_result"
    }
   ],
   "source": [
    "(\n",
    "    precision_df\n",
    "    .sort_values('precision@5', ascending=False)\n",
    "    .head(10)\n",
    "    .style.set_properties(subset=['model'], **{'width': '450px'})\n",
    ")"
   ]
  },
  {
   "cell_type": "code",
   "execution_count": null,
   "id": "053befa4",
   "metadata": {},
   "outputs": [],
   "source": []
  }
 ],
 "metadata": {
  "kernelspec": {
   "display_name": "Python 3 (ipykernel)",
   "language": "python",
   "name": "python3"
  },
  "language_info": {
   "codemirror_mode": {
    "name": "ipython",
    "version": 3
   },
   "file_extension": ".py",
   "mimetype": "text/x-python",
   "name": "python",
   "nbconvert_exporter": "python",
   "pygments_lexer": "ipython3",
   "version": "3.8.6"
  }
 },
 "nbformat": 4,
 "nbformat_minor": 5
}
