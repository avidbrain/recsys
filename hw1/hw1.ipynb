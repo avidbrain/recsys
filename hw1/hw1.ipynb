{
 "cells": [
  {
   "cell_type": "markdown",
   "id": "d77b0c78",
   "metadata": {},
   "source": [
    "# Рекомендательные системы. Введение"
   ]
  },
  {
   "cell_type": "markdown",
   "id": "095a0b18",
   "metadata": {},
   "source": [
    "## Практическая работа"
   ]
  },
  {
   "cell_type": "markdown",
   "id": "919f662f",
   "metadata": {},
   "source": [
    "**Задание 1)** Приведите еще примеры метрик для оценки рекомендаций/ранжирования (можно взять из интернета, или ваши знания)"
   ]
  },
  {
   "cell_type": "markdown",
   "id": "a2d9fff2",
   "metadata": {},
   "source": [
    "Поскольку \"наши знания\" в данном случае нулевые, пара идей взята из Википедии https://en.wikipedia.org/wiki/Evaluation_measures_(information_retrieval)\n",
    "\n",
    "Для понимания нужно \"перевести\" суть метрик с языка поисковых систем на язык интернет-магазина, а именно:\n",
    "- \"retrieved documents\" (поисковая выдача) становятся \"рекомендованными товарами\"\n",
    "- \"relevant documents\" - это в данном случае \"купленные товары\" (или релевантные в другом смысле, например, положенные в корзину, просмотренные в течение определенного времени и т.п.)\n",
    "\n",
    "В статье, помимо Precision и Recall, упоминаются другие метрики, образованные пересечением \"рекомендованных\" и \"релевантных\" множеств, не учитывающие порядок (ранг) рекомендаций:\n",
    "- Fall-out - доля рекомендованных, но не купленных, товаров по отношению ко всем не купленным (своеобразный аналог False Positive Rate)\n",
    "- F-score - аналогично бинарной классификации"
   ]
  },
  {
   "cell_type": "markdown",
   "id": "121feb94",
   "metadata": {},
   "source": [
    "Многие статьи в Интернете делают акцент не столько на качестве предсказания интересов клиента, сколько на способах представить рекомендательную систему интеллектуальным собеседником, способным привнести в жизнь новое и неожиданное. \n",
    "\n",
    "Отсюда появление специальных категорий метрик:\n",
    "- Diversity (разносторонность) - оценивает степень непохожести рекомендованных элементов для пользователя. Выбор технической реализации метрики зависит от того, какие признаки описывают элементы. Могут использоваться различные коэффициенты сходства, метрики расстояний.\n",
    "- Coverage (широта покрытия) - оценивает способность рекомендательной системы отражать широту ассортимента в рекомендациях, в частности, предлагать элементы без рейтинга и с короткой историей пользовательских транзакций.\n",
    "- Serendipity (способность удачно находить то, что не искал). Оценивается свойство системы предложить персонализированную релевантную рекомендацию не из набора универсальных рекомендаций, которые пользователь ожидает увидеть в списке.\n",
    "- Novelty (новизна) - способность предложить пользователю то, что он до этого не видел."
   ]
  },
  {
   "cell_type": "markdown",
   "id": "f56db9c4",
   "metadata": {},
   "source": [
    "**Задание 2)** Доделать все функции, где стоит комментарий \"сделать дома\"\n",
    "\n",
    "**Примечание**: Переписал код функций, скорее для лучшего понимания, нежели для оптимизации."
   ]
  },
  {
   "cell_type": "code",
   "execution_count": 1,
   "id": "c34cc1d6",
   "metadata": {},
   "outputs": [],
   "source": [
    "import numpy as np\n",
    "import pandas as pd"
   ]
  },
  {
   "cell_type": "code",
   "execution_count": 2,
   "id": "59fc5bd7",
   "metadata": {},
   "outputs": [],
   "source": [
    "# Метрики будем проверять на следующих данных\n",
    "recommended_list_users = [\n",
    "    [143, 156, 1134, 991, 27, 1543, 3345, 533, 11, 43],\n",
    "    [1134, 533, 14, 4, 1, 1543, 15, 99, 27, 3345],\n",
    "    [991, 3345, 27, 533, 43, 143, 1543, 156, 1134, 11],\n",
    "    [4, 22, 21, 1, 234, 232432, 234234, 666]\n",
    "]\n",
    "\n",
    "bought_list_users = [\n",
    "    [521, 32, 143, 991],\n",
    "    [143, 156, 991, 43, 1],\n",
    "    [1, 2],\n",
    "    [1, 221, 3, 4, 5, 6, 7, 8, 9]\n",
    "]"
   ]
  },
  {
   "cell_type": "markdown",
   "id": "a111ec0c",
   "metadata": {},
   "source": [
    "### Hit Rate"
   ]
  },
  {
   "cell_type": "code",
   "execution_count": 3,
   "id": "8027b96e",
   "metadata": {},
   "outputs": [],
   "source": [
    "def hit_rate(recommended_list, bought_list):\n",
    "    _b_and_r = np.intersect1d(bought_list, recommended_list)\n",
    "    return np.sign(_b_and_r.size)\n",
    "\n",
    "def hit_rate_at_k(recommended_list, bought_list, k=5):\n",
    "    return hit_rate(recommended_list[:k], bought_list)"
   ]
  },
  {
   "cell_type": "code",
   "execution_count": 4,
   "id": "986094e1",
   "metadata": {},
   "outputs": [],
   "source": [
    "assert hit_rate_at_k(recommended_list_users[0], bought_list_users[0], k=3) == 1\n",
    "assert hit_rate_at_k(recommended_list_users[1], bought_list_users[1], k=3) == 0"
   ]
  },
  {
   "cell_type": "markdown",
   "id": "866343ce",
   "metadata": {},
   "source": [
    "### Precision\n",
    "> Доля купленных товаров среди рекомендованных"
   ]
  },
  {
   "cell_type": "code",
   "execution_count": 5,
   "id": "f9356565",
   "metadata": {},
   "outputs": [],
   "source": [
    "def precision(recommended_list, bought_list):\n",
    "    _b_and_r = np.intersect1d(bought_list, recommended_list)\n",
    "    return _b_and_r.size / len(recommended_list)\n",
    "\n",
    "def precision_at_k(recommended_list, bought_list, k=5):\n",
    "    return precision(recommended_list[:k], bought_list)"
   ]
  },
  {
   "cell_type": "code",
   "execution_count": 6,
   "id": "8a322399",
   "metadata": {},
   "outputs": [],
   "source": [
    "assert precision_at_k(recommended_list_users[0], bought_list_users[0], k=30) == 0.2\n",
    "assert precision_at_k(recommended_list_users[0], bought_list_users[0], k=3) == 1/3"
   ]
  },
  {
   "cell_type": "code",
   "execution_count": 7,
   "id": "26c5cb38",
   "metadata": {},
   "outputs": [],
   "source": [
    "def money_precision_at_k(recommended_list, bought_list, prices_recommended, k=5):\n",
    "    top_rec = recommended_list[:k]\n",
    "    top_prices = prices_recommended[:k]\n",
    "    _r_in_b = np.isin(top_rec, bought_list)\n",
    "    return np.dot(_r_in_b, top_prices) / np.sum(top_prices)"
   ]
  },
  {
   "cell_type": "code",
   "execution_count": 8,
   "id": "d348f540",
   "metadata": {},
   "outputs": [
    {
     "data": {
      "text/plain": [
       "0.8"
      ]
     },
     "execution_count": 8,
     "metadata": {},
     "output_type": "execute_result"
    }
   ],
   "source": [
    "prices_rec = [400, 60, 40, 40, 90]\n",
    "money_precision_at_k(recommended_list_users[0], bought_list_users[0], prices_rec, k=3)"
   ]
  },
  {
   "cell_type": "markdown",
   "id": "daadfae3",
   "metadata": {},
   "source": [
    "### Recall\n",
    "> Доля рекомендованных товаров среди купленных"
   ]
  },
  {
   "cell_type": "code",
   "execution_count": 9,
   "id": "8af38ba1",
   "metadata": {},
   "outputs": [],
   "source": [
    "def recall(recommended_list, bought_list):\n",
    "    _b_and_r = np.intersect1d(bought_list, recommended_list)\n",
    "    return _b_and_r.size / len(bought_list)\n",
    "\n",
    "def recall_at_k(recommended_list, bought_list, k=5):\n",
    "    return recall(recommended_list[:k], bought_list)"
   ]
  },
  {
   "cell_type": "code",
   "execution_count": 10,
   "id": "5188bf9a",
   "metadata": {},
   "outputs": [],
   "source": [
    "assert recall_at_k(recommended_list_users[0], bought_list_users[0], k=30) == 0.5\n",
    "assert recall_at_k(recommended_list_users[0], bought_list_users[0], k=3) == 0.25"
   ]
  },
  {
   "cell_type": "code",
   "execution_count": 11,
   "id": "818a98ce",
   "metadata": {},
   "outputs": [],
   "source": [
    "def money_recall_at_k(recommended_list, bought_list, prices_bought, k=5):\n",
    "    top_rec = recommended_list[:k]\n",
    "    _b_in_r = np.isin(bought_list, top_rec)\n",
    "    return np.dot(_b_in_r, prices_bought) / np.sum(prices_bought)"
   ]
  },
  {
   "cell_type": "code",
   "execution_count": 12,
   "id": "d4a02f6b",
   "metadata": {},
   "outputs": [
    {
     "data": {
      "text/plain": [
       "0.25"
      ]
     },
     "execution_count": 12,
     "metadata": {},
     "output_type": "execute_result"
    }
   ],
   "source": [
    "prices_bought = [20, 60, 40, 40]\n",
    "money_recall_at_k(recommended_list_users[0], bought_list_users[0], prices_bought, k=3)"
   ]
  },
  {
   "cell_type": "markdown",
   "id": "40edae75",
   "metadata": {},
   "source": [
    "### AP@k"
   ]
  },
  {
   "cell_type": "code",
   "execution_count": 13,
   "id": "5ec50f5c",
   "metadata": {},
   "outputs": [],
   "source": [
    "def ap_k(recommended_list, bought_list, k=5):\n",
    "    top_rec = recommended_list[:k]\n",
    "    bought_set = set(bought_list)\n",
    "    \n",
    "    n_relevant = 0\n",
    "    sum_precision = 0.0\n",
    "    \n",
    "    for n_rec, rec in enumerate(top_rec, start=1):\n",
    "        if rec in bought_set:\n",
    "            n_relevant += 1\n",
    "            sum_precision += n_relevant / n_rec\n",
    "    \n",
    "    return sum_precision / n_relevant if sum_precision else 0.0"
   ]
  },
  {
   "cell_type": "code",
   "execution_count": 14,
   "id": "0d31ebca",
   "metadata": {},
   "outputs": [
    {
     "data": {
      "text/plain": [
       "0.75"
      ]
     },
     "execution_count": 14,
     "metadata": {},
     "output_type": "execute_result"
    }
   ],
   "source": [
    "ap_k(recommended_list_users[-1], bought_list_users[-1])"
   ]
  },
  {
   "cell_type": "markdown",
   "id": "0c946efd",
   "metadata": {},
   "source": [
    "### MAP@k"
   ]
  },
  {
   "cell_type": "code",
   "execution_count": 15,
   "id": "9a6a8cbe",
   "metadata": {},
   "outputs": [],
   "source": [
    "def map_k(recommended_list_users, bought_list_users, k=5):\n",
    "    _gen_ap_k = (\n",
    "        ap_k(recommended_list, bought_list, k) \n",
    "        for recommended_list, bought_list\n",
    "        in zip(recommended_list_users, bought_list_users)\n",
    "    )\n",
    "    return np.mean(np.fromiter(_gen_ap_k, float))"
   ]
  },
  {
   "cell_type": "code",
   "execution_count": 16,
   "id": "93bc9256",
   "metadata": {},
   "outputs": [
    {
     "data": {
      "text/plain": [
       "0.425"
      ]
     },
     "execution_count": 16,
     "metadata": {},
     "output_type": "execute_result"
    }
   ],
   "source": [
    "map_k(recommended_list_users, bought_list_users, k=5)"
   ]
  },
  {
   "cell_type": "markdown",
   "id": "1b37b556",
   "metadata": {},
   "source": [
    "### Normalized discounted cumulative gain ( NDCG@k)"
   ]
  },
  {
   "cell_type": "code",
   "execution_count": 17,
   "id": "28086cb7",
   "metadata": {},
   "outputs": [],
   "source": [
    "# Реализовал дисконт, как в Википедии (попроще), а не как в методичке"
   ]
  },
  {
   "cell_type": "code",
   "execution_count": 18,
   "id": "11650e0b",
   "metadata": {},
   "outputs": [],
   "source": [
    "def ndcg_at_k(recommended_list, bought_list, k=5):\n",
    "    top_rec = recommended_list[:k]\n",
    "    discount = np.log2(np.arange(k) + 2)\n",
    "    \n",
    "    _r_in_b = np.isin(top_rec, bought_list)\n",
    "    return np.sum(_r_in_b / discount) / np.sum(1 / discount)"
   ]
  },
  {
   "cell_type": "code",
   "execution_count": 19,
   "id": "773c6153",
   "metadata": {},
   "outputs": [
    {
     "data": {
      "text/plain": [
       "0.48522855511632257"
      ]
     },
     "execution_count": 19,
     "metadata": {},
     "output_type": "execute_result"
    }
   ],
   "source": [
    "ndcg_at_k(recommended_list_users[0], bought_list_users[0], k=5)"
   ]
  },
  {
   "cell_type": "markdown",
   "id": "4d82cded",
   "metadata": {},
   "source": [
    "### Mean Reciprocal Rank ( MRR@k )\n",
    "> Reciprocal Rank - обратная величина к рангу первого релевантного предсказания"
   ]
  },
  {
   "cell_type": "code",
   "execution_count": 20,
   "id": "2dd11563",
   "metadata": {},
   "outputs": [],
   "source": [
    "def reciprocal_rank(recommended_list, bought_list, k):\n",
    "    top_rec = recommended_list[:k]\n",
    "    bought_set = set(bought_list)\n",
    "    \n",
    "    rank = 0\n",
    "    for rec_rank, rec in enumerate(top_rec, start=1):\n",
    "        if rec in bought_set:\n",
    "            rank = rec_rank\n",
    "            break\n",
    "    return 1 / rank if rank else 0.0"
   ]
  },
  {
   "cell_type": "code",
   "execution_count": 21,
   "id": "a6db87a4",
   "metadata": {},
   "outputs": [
    {
     "data": {
      "text/plain": [
       "0.2"
      ]
     },
     "execution_count": 21,
     "metadata": {},
     "output_type": "execute_result"
    }
   ],
   "source": [
    "reciprocal_rank(recommended_list_users[1], bought_list_users[1], k=50)"
   ]
  },
  {
   "cell_type": "code",
   "execution_count": 22,
   "id": "21ba3f2e",
   "metadata": {},
   "outputs": [],
   "source": [
    "def mean_reciprocal_rank(recommended_list_users, bought_list_users, k=5):\n",
    "    _gen_reciprocal_rank = (\n",
    "        reciprocal_rank(recommended_list, bought_list, k) \n",
    "        for recommended_list, bought_list\n",
    "        in zip(recommended_list_users, bought_list_users)\n",
    "    )\n",
    "    return np.mean(np.fromiter(_gen_reciprocal_rank, float))"
   ]
  },
  {
   "cell_type": "code",
   "execution_count": 23,
   "id": "eb445aa4",
   "metadata": {},
   "outputs": [
    {
     "data": {
      "text/plain": [
       "0.55"
      ]
     },
     "execution_count": 23,
     "metadata": {},
     "output_type": "execute_result"
    }
   ],
   "source": [
    "mean_reciprocal_rank(recommended_list_users, bought_list_users, k=5)"
   ]
  }
 ],
 "metadata": {
  "kernelspec": {
   "display_name": "Python 3 (ipykernel)",
   "language": "python",
   "name": "python3"
  },
  "language_info": {
   "codemirror_mode": {
    "name": "ipython",
    "version": 3
   },
   "file_extension": ".py",
   "mimetype": "text/x-python",
   "name": "python",
   "nbconvert_exporter": "python",
   "pygments_lexer": "ipython3",
   "version": "3.8.6"
  }
 },
 "nbformat": 4,
 "nbformat_minor": 5
}
