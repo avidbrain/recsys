{
 "cells": [
  {
   "cell_type": "markdown",
   "id": "04dd213e",
   "metadata": {},
   "source": [
    "# Рекомендательные системы"
   ]
  },
  {
   "cell_type": "markdown",
   "id": "a1830124",
   "metadata": {},
   "source": [
    "## Урок 2. Бейзлайны и item-item. Практическое задание."
   ]
  },
  {
   "cell_type": "code",
   "execution_count": 1,
   "id": "3e32820f",
   "metadata": {},
   "outputs": [],
   "source": [
    "import numpy as np\n",
    "import pandas as pd\n",
    "from scipy.sparse import bsr_matrix\n",
    "\n",
    "# Детерминированные алгоритмы\n",
    "from implicit.nearest_neighbours import ItemItemRecommender, CosineRecommender, TFIDFRecommender"
   ]
  },
  {
   "cell_type": "code",
   "execution_count": 2,
   "id": "d312561e",
   "metadata": {},
   "outputs": [
    {
     "name": "stdout",
     "output_type": "stream",
     "text": [
      "Wall time: 3.6 s\n"
     ]
    },
    {
     "data": {
      "text/html": [
       "<div>\n",
       "<style scoped>\n",
       "    .dataframe tbody tr th:only-of-type {\n",
       "        vertical-align: middle;\n",
       "    }\n",
       "\n",
       "    .dataframe tbody tr th {\n",
       "        vertical-align: top;\n",
       "    }\n",
       "\n",
       "    .dataframe thead th {\n",
       "        text-align: right;\n",
       "    }\n",
       "</style>\n",
       "<table border=\"1\" class=\"dataframe\">\n",
       "  <thead>\n",
       "    <tr style=\"text-align: right;\">\n",
       "      <th></th>\n",
       "      <th>user_id</th>\n",
       "      <th>basket_id</th>\n",
       "      <th>day</th>\n",
       "      <th>item_id</th>\n",
       "      <th>quantity</th>\n",
       "      <th>sales_value</th>\n",
       "      <th>store_id</th>\n",
       "      <th>retail_disc</th>\n",
       "      <th>trans_time</th>\n",
       "      <th>week_no</th>\n",
       "      <th>coupon_disc</th>\n",
       "      <th>coupon_match_disc</th>\n",
       "    </tr>\n",
       "  </thead>\n",
       "  <tbody>\n",
       "    <tr>\n",
       "      <th>1549245</th>\n",
       "      <td>2102</td>\n",
       "      <td>33659352753</td>\n",
       "      <td>453</td>\n",
       "      <td>973086</td>\n",
       "      <td>1</td>\n",
       "      <td>2.00</td>\n",
       "      <td>450</td>\n",
       "      <td>-1.19</td>\n",
       "      <td>1718</td>\n",
       "      <td>65</td>\n",
       "      <td>0.0</td>\n",
       "      <td>0.0</td>\n",
       "    </tr>\n",
       "    <tr>\n",
       "      <th>1360383</th>\n",
       "      <td>763</td>\n",
       "      <td>33015750451</td>\n",
       "      <td>407</td>\n",
       "      <td>820895</td>\n",
       "      <td>1</td>\n",
       "      <td>1.39</td>\n",
       "      <td>31782</td>\n",
       "      <td>0.00</td>\n",
       "      <td>1123</td>\n",
       "      <td>59</td>\n",
       "      <td>0.0</td>\n",
       "      <td>0.0</td>\n",
       "    </tr>\n",
       "    <tr>\n",
       "      <th>827593</th>\n",
       "      <td>56</td>\n",
       "      <td>31070756490</td>\n",
       "      <td>274</td>\n",
       "      <td>10455921</td>\n",
       "      <td>1</td>\n",
       "      <td>2.99</td>\n",
       "      <td>439</td>\n",
       "      <td>0.00</td>\n",
       "      <td>1259</td>\n",
       "      <td>40</td>\n",
       "      <td>0.0</td>\n",
       "      <td>0.0</td>\n",
       "    </tr>\n",
       "  </tbody>\n",
       "</table>\n",
       "</div>"
      ],
      "text/plain": [
       "         user_id    basket_id  day   item_id  quantity  sales_value  store_id  \\\n",
       "1549245     2102  33659352753  453    973086         1         2.00       450   \n",
       "1360383      763  33015750451  407    820895         1         1.39     31782   \n",
       "827593        56  31070756490  274  10455921         1         2.99       439   \n",
       "\n",
       "         retail_disc  trans_time  week_no  coupon_disc  coupon_match_disc  \n",
       "1549245        -1.19        1718       65          0.0                0.0  \n",
       "1360383         0.00        1123       59          0.0                0.0  \n",
       "827593          0.00        1259       40          0.0                0.0  "
      ]
     },
     "execution_count": 2,
     "metadata": {},
     "output_type": "execute_result"
    }
   ],
   "source": [
    "%%time\n",
    "data = pd.read_csv('retail_train.csv.zip')\n",
    "data.sample(3, random_state=0)"
   ]
  },
  {
   "cell_type": "code",
   "execution_count": 3,
   "id": "001ca7fc",
   "metadata": {},
   "outputs": [],
   "source": [
    "# train-test split\n",
    "test_size_weeks = 3\n",
    "data_train = data[data['week_no'] < data['week_no'].max() - test_size_weeks]\n",
    "data_test = data[data['week_no'] >= data['week_no'].max() - test_size_weeks]"
   ]
  },
  {
   "cell_type": "markdown",
   "id": "42eb5ef8",
   "metadata": {},
   "source": [
    "### Задание 1. Weighted Random Recommendation\n",
    "\n",
    "Напишите код для случайных рекоммендаций, в которых вероятность рекомендовать товар прямо пропорциональна логарифму продаж\n",
    "- Можно сэмплировать товары случайно, но пропорционально какому-либо весу\n",
    "- Например, прямопропорционально популярности. Вес = log(sales_sum товара)"
   ]
  },
  {
   "cell_type": "markdown",
   "id": "f0fab5c5",
   "metadata": {},
   "source": [
    "**Примечание** Сделал немного другую реализацию. Базовые рекомендации не зависят от `user_id`, применимы к любому количеству пользователей, их удобно реализовать в виде бесконечных генераторов."
   ]
  },
  {
   "cell_type": "code",
   "execution_count": 4,
   "id": "f2948a59",
   "metadata": {},
   "outputs": [],
   "source": [
    "# Случайные и взвешенные случайные рекоммендации\n",
    "def gen_inf_random_rec(items, weights=None, n=5, random_state=None):\n",
    "    \"\"\"Generate infinite random weighted recommendations from items\"\"\"\n",
    "    rng = np.random.default_rng(random_state)\n",
    "    while True:\n",
    "        yield rng.choice(items, p=weights, size=n, replace=False, shuffle=True).tolist()"
   ]
  },
  {
   "cell_type": "code",
   "execution_count": 5,
   "id": "0d78d670",
   "metadata": {},
   "outputs": [
    {
     "data": {
      "text/plain": [
       "True"
      ]
     },
     "execution_count": 5,
     "metadata": {},
     "output_type": "execute_result"
    }
   ],
   "source": [
    "# Применить логарифм непосредственно к sales_value не получится\n",
    "np.any(data_train['sales_value'] == 0)"
   ]
  },
  {
   "cell_type": "code",
   "execution_count": 6,
   "id": "63edafc2",
   "metadata": {},
   "outputs": [
    {
     "data": {
      "text/html": [
       "<div>\n",
       "<style scoped>\n",
       "    .dataframe tbody tr th:only-of-type {\n",
       "        vertical-align: middle;\n",
       "    }\n",
       "\n",
       "    .dataframe tbody tr th {\n",
       "        vertical-align: top;\n",
       "    }\n",
       "\n",
       "    .dataframe thead th {\n",
       "        text-align: right;\n",
       "    }\n",
       "</style>\n",
       "<table border=\"1\" class=\"dataframe\">\n",
       "  <thead>\n",
       "    <tr style=\"text-align: right;\">\n",
       "      <th></th>\n",
       "      <th>sales_value</th>\n",
       "      <th>w_logsum</th>\n",
       "      <th>w_sum</th>\n",
       "    </tr>\n",
       "    <tr>\n",
       "      <th>item_id</th>\n",
       "      <th></th>\n",
       "      <th></th>\n",
       "      <th></th>\n",
       "    </tr>\n",
       "  </thead>\n",
       "  <tbody>\n",
       "    <tr>\n",
       "      <th>25671</th>\n",
       "      <td>20.94</td>\n",
       "      <td>0.000013</td>\n",
       "      <td>2.969296e-06</td>\n",
       "    </tr>\n",
       "    <tr>\n",
       "      <th>26081</th>\n",
       "      <td>0.99</td>\n",
       "      <td>0.000003</td>\n",
       "      <td>1.403822e-07</td>\n",
       "    </tr>\n",
       "    <tr>\n",
       "      <th>26093</th>\n",
       "      <td>1.59</td>\n",
       "      <td>0.000004</td>\n",
       "      <td>2.254623e-07</td>\n",
       "    </tr>\n",
       "  </tbody>\n",
       "</table>\n",
       "</div>"
      ],
      "text/plain": [
       "         sales_value  w_logsum         w_sum\n",
       "item_id                                     \n",
       "25671          20.94  0.000013  2.969296e-06\n",
       "26081           0.99  0.000003  1.403822e-07\n",
       "26093           1.59  0.000004  2.254623e-07"
      ]
     },
     "execution_count": 6,
     "metadata": {},
     "output_type": "execute_result"
    }
   ],
   "source": [
    "# Применим log(x+1)\n",
    "item_weight_train = (\n",
    "    data_train\n",
    "    .groupby('item_id')\n",
    "    .agg({'sales_value': 'sum'})\n",
    "    .assign(w_logsum = lambda x: np.log1p(x['sales_value']))\n",
    "    .assign(w_logsum = lambda x: x.w_logsum / np.sum(x.w_logsum))\n",
    "    .assign(w_sum = lambda x: x['sales_value'] / np.sum(x['sales_value']))\n",
    ")\n",
    "\n",
    "item_weight_train.head(3)"
   ]
  },
  {
   "cell_type": "code",
   "execution_count": 7,
   "id": "1ea9766b",
   "metadata": {},
   "outputs": [
    {
     "data": {
      "text/html": [
       "<div>\n",
       "<style scoped>\n",
       "    .dataframe tbody tr th:only-of-type {\n",
       "        vertical-align: middle;\n",
       "    }\n",
       "\n",
       "    .dataframe tbody tr th {\n",
       "        vertical-align: top;\n",
       "    }\n",
       "\n",
       "    .dataframe thead th {\n",
       "        text-align: right;\n",
       "    }\n",
       "</style>\n",
       "<table border=\"1\" class=\"dataframe\">\n",
       "  <thead>\n",
       "    <tr style=\"text-align: right;\">\n",
       "      <th></th>\n",
       "      <th>quantity</th>\n",
       "      <th>MANUFACTURER</th>\n",
       "      <th>DEPARTMENT</th>\n",
       "      <th>BRAND</th>\n",
       "      <th>COMMODITY_DESC</th>\n",
       "      <th>SUB_COMMODITY_DESC</th>\n",
       "      <th>CURR_SIZE_OF_PRODUCT</th>\n",
       "    </tr>\n",
       "    <tr>\n",
       "      <th>item_id</th>\n",
       "      <th></th>\n",
       "      <th></th>\n",
       "      <th></th>\n",
       "      <th></th>\n",
       "      <th></th>\n",
       "      <th></th>\n",
       "      <th></th>\n",
       "    </tr>\n",
       "  </thead>\n",
       "  <tbody>\n",
       "    <tr>\n",
       "      <th>6534178</th>\n",
       "      <td>190227964</td>\n",
       "      <td>69</td>\n",
       "      <td>KIOSK-GAS</td>\n",
       "      <td>Private</td>\n",
       "      <td>COUPON/MISC ITEMS</td>\n",
       "      <td>GASOLINE-REG UNLEADED</td>\n",
       "      <td></td>\n",
       "    </tr>\n",
       "    <tr>\n",
       "      <th>6533889</th>\n",
       "      <td>15978434</td>\n",
       "      <td>69</td>\n",
       "      <td>MISC SALES TRAN</td>\n",
       "      <td>Private</td>\n",
       "      <td>COUPON/MISC ITEMS</td>\n",
       "      <td>GASOLINE-REG UNLEADED</td>\n",
       "      <td></td>\n",
       "    </tr>\n",
       "    <tr>\n",
       "      <th>6534166</th>\n",
       "      <td>12439291</td>\n",
       "      <td>69</td>\n",
       "      <td>MISC SALES TRAN</td>\n",
       "      <td>Private</td>\n",
       "      <td>COUPON/MISC ITEMS</td>\n",
       "      <td>GASOLINE-REG UNLEADED</td>\n",
       "      <td></td>\n",
       "    </tr>\n",
       "    <tr>\n",
       "      <th>6544236</th>\n",
       "      <td>2501949</td>\n",
       "      <td>69</td>\n",
       "      <td>MISC SALES TRAN</td>\n",
       "      <td>Private</td>\n",
       "      <td>COUPON/MISC ITEMS</td>\n",
       "      <td>GASOLINE-REG UNLEADED</td>\n",
       "      <td></td>\n",
       "    </tr>\n",
       "    <tr>\n",
       "      <th>1404121</th>\n",
       "      <td>1562004</td>\n",
       "      <td>69</td>\n",
       "      <td>KIOSK-GAS</td>\n",
       "      <td>Private</td>\n",
       "      <td>COUPON/MISC ITEMS</td>\n",
       "      <td>GASOLINE-REG UNLEADED</td>\n",
       "      <td></td>\n",
       "    </tr>\n",
       "  </tbody>\n",
       "</table>\n",
       "</div>"
      ],
      "text/plain": [
       "          quantity  MANUFACTURER       DEPARTMENT    BRAND     COMMODITY_DESC  \\\n",
       "item_id                                                                         \n",
       "6534178  190227964            69        KIOSK-GAS  Private  COUPON/MISC ITEMS   \n",
       "6533889   15978434            69  MISC SALES TRAN  Private  COUPON/MISC ITEMS   \n",
       "6534166   12439291            69  MISC SALES TRAN  Private  COUPON/MISC ITEMS   \n",
       "6544236    2501949            69  MISC SALES TRAN  Private  COUPON/MISC ITEMS   \n",
       "1404121    1562004            69        KIOSK-GAS  Private  COUPON/MISC ITEMS   \n",
       "\n",
       "            SUB_COMMODITY_DESC CURR_SIZE_OF_PRODUCT  \n",
       "item_id                                              \n",
       "6534178  GASOLINE-REG UNLEADED                       \n",
       "6533889  GASOLINE-REG UNLEADED                       \n",
       "6534166  GASOLINE-REG UNLEADED                       \n",
       "6544236  GASOLINE-REG UNLEADED                       \n",
       "1404121  GASOLINE-REG UNLEADED                       "
      ]
     },
     "execution_count": 7,
     "metadata": {},
     "output_type": "execute_result"
    }
   ],
   "source": [
    "# TOP 5000\n",
    "top_5000_items_train = (\n",
    "    data_train\n",
    "    .groupby('item_id')\n",
    "    .agg({'quantity': 'sum'})  # не уверен, что стоит считать записи, где quantity=0\n",
    "    .query('quantity > 0')\n",
    "    .nlargest(5000, 'quantity')\n",
    ")\n",
    "\n",
    "top_5000_items_train.head(5).join(pd.read_csv('product.csv').set_index('PRODUCT_ID'))"
   ]
  },
  {
   "cell_type": "code",
   "execution_count": 8,
   "id": "24694f62",
   "metadata": {},
   "outputs": [],
   "source": [
    "# Генераторы случайных рекомендаций\n",
    "random_gen = gen_inf_random_rec(\n",
    "    item_weight_train.index,\n",
    "    random_state=2021)\n",
    "\n",
    "random_top5k_gen = gen_inf_random_rec(\n",
    "    top_5000_items_train.index,\n",
    "    random_state=2021)\n",
    "\n",
    "weighted_random_gen = gen_inf_random_rec(\n",
    "    item_weight_train.index,\n",
    "    weights=item_weight_train['w_sum'],\n",
    "    random_state=2021)\n",
    "\n",
    "logweighted_random_gen = gen_inf_random_rec(\n",
    "    item_weight_train.index,\n",
    "    weights=item_weight_train['w_logsum'],\n",
    "    random_state=2021)"
   ]
  },
  {
   "cell_type": "code",
   "execution_count": 9,
   "id": "f09ab9ac",
   "metadata": {},
   "outputs": [],
   "source": [
    "# helper\n",
    "def lslice(iterable, stop):\n",
    "    \"\"\"Get list of first n generator items\"\"\"\n",
    "    return [itm for _, itm in zip(range(stop), iterable)]"
   ]
  },
  {
   "cell_type": "code",
   "execution_count": 10,
   "id": "47260e33",
   "metadata": {},
   "outputs": [
    {
     "name": "stdout",
     "output_type": "stream",
     "text": [
      "Wall time: 5.38 s\n"
     ]
    },
    {
     "data": {
      "text/html": [
       "<div>\n",
       "<style scoped>\n",
       "    .dataframe tbody tr th:only-of-type {\n",
       "        vertical-align: middle;\n",
       "    }\n",
       "\n",
       "    .dataframe tbody tr th {\n",
       "        vertical-align: top;\n",
       "    }\n",
       "\n",
       "    .dataframe thead th {\n",
       "        text-align: right;\n",
       "    }\n",
       "</style>\n",
       "<table border=\"1\" class=\"dataframe\">\n",
       "  <thead>\n",
       "    <tr style=\"text-align: right;\">\n",
       "      <th></th>\n",
       "      <th>actual</th>\n",
       "      <th>random_recommendation</th>\n",
       "      <th>random_top5k_recommendation</th>\n",
       "      <th>weighted_random_recommendation</th>\n",
       "      <th>logweighted_random_recommendation</th>\n",
       "    </tr>\n",
       "    <tr>\n",
       "      <th>user_id</th>\n",
       "      <th></th>\n",
       "      <th></th>\n",
       "      <th></th>\n",
       "      <th></th>\n",
       "      <th></th>\n",
       "    </tr>\n",
       "  </thead>\n",
       "  <tbody>\n",
       "    <tr>\n",
       "      <th>1</th>\n",
       "      <td>[821867, 834484, 856942, 865456, 889248, 90795...</td>\n",
       "      <td>[13910481, 9551712, 9552919, 7024844, 1370693]</td>\n",
       "      <td>[5567874, 908408, 965050, 869900, 888532]</td>\n",
       "      <td>[6534178, 12384737, 1098927, 967751, 1115387]</td>\n",
       "      <td>[9374013, 13672076, 2024965, 994928, 5576830]</td>\n",
       "    </tr>\n",
       "    <tr>\n",
       "      <th>3</th>\n",
       "      <td>[835476, 851057, 872021, 878302, 879948, 90963...</td>\n",
       "      <td>[965562, 314005, 6395990, 5125711, 978937]</td>\n",
       "      <td>[1077285, 9527290, 12262992, 915679, 962185]</td>\n",
       "      <td>[834117, 933835, 1046336, 958652, 6391045]</td>\n",
       "      <td>[819969, 951841, 1097350, 983584, 8091434]</td>\n",
       "    </tr>\n",
       "  </tbody>\n",
       "</table>\n",
       "</div>"
      ],
      "text/plain": [
       "                                                    actual  \\\n",
       "user_id                                                      \n",
       "1        [821867, 834484, 856942, 865456, 889248, 90795...   \n",
       "3        [835476, 851057, 872021, 878302, 879948, 90963...   \n",
       "\n",
       "                                  random_recommendation  \\\n",
       "user_id                                                   \n",
       "1        [13910481, 9551712, 9552919, 7024844, 1370693]   \n",
       "3            [965562, 314005, 6395990, 5125711, 978937]   \n",
       "\n",
       "                          random_top5k_recommendation  \\\n",
       "user_id                                                 \n",
       "1           [5567874, 908408, 965050, 869900, 888532]   \n",
       "3        [1077285, 9527290, 12262992, 915679, 962185]   \n",
       "\n",
       "                        weighted_random_recommendation  \\\n",
       "user_id                                                  \n",
       "1        [6534178, 12384737, 1098927, 967751, 1115387]   \n",
       "3           [834117, 933835, 1046336, 958652, 6391045]   \n",
       "\n",
       "                     logweighted_random_recommendation  \n",
       "user_id                                                 \n",
       "1        [9374013, 13672076, 2024965, 994928, 5576830]  \n",
       "3           [819969, 951841, 1097350, 983584, 8091434]  "
      ]
     },
     "execution_count": 10,
     "metadata": {},
     "output_type": "execute_result"
    }
   ],
   "source": [
    "%%time\n",
    "result = (\n",
    "    data_test\n",
    "    .groupby('user_id')\n",
    "    .agg(actual=('item_id', list))\n",
    "    .assign(\n",
    "        random_recommendation=lambda x: lslice(random_gen, x.shape[0]),\n",
    "        random_top5k_recommendation=lambda x: lslice(random_top5k_gen, x.shape[0]),\n",
    "        weighted_random_recommendation=lambda x: lslice(weighted_random_gen, x.shape[0]),\n",
    "        logweighted_random_recommendation=lambda x: lslice(logweighted_random_gen, x.shape[0]),\n",
    "    )\n",
    ")\n",
    "result.head(2)"
   ]
  },
  {
   "cell_type": "code",
   "execution_count": 11,
   "id": "25997be9",
   "metadata": {
    "scrolled": true
   },
   "outputs": [
    {
     "name": "stdout",
     "output_type": "stream",
     "text": [
      "Top 7 повторяющихся случайных значений\n",
      "{13877043: 4, 99340: 3, 13911498: 3, 926128: 3, 8068356: 3, 9655023: 3, 906602: 3}\n",
      "**************************************************\n",
      "Top 7 повторяющихся случайных значений, вес пропорционален log(sales_value + 1)\n",
      "{1118028: 3, 913786: 3, 934399: 3, 927424: 3, 1119555: 3, 879689: 3, 1087581: 3}\n",
      "**************************************************\n",
      "Top 7 повторяющихся случайных значений, вес пропорционален sales_value\n",
      "{6534178: 574, 6533889: 67, 1029743: 57, 1082185: 42, 916122: 39, 6533765: 39, 6534166: 36}\n"
     ]
    }
   ],
   "source": [
    "# Убедимся, что веса, реализованные как логарифм от суммы, практически не дают никакого преимущества популярным товарам\n",
    "# В отличие от весов, пропорциональных непосредственно сумме\n",
    "# Правда, неизвестно, что полезнее для бизнеса\n",
    "n_top = 7\n",
    "print(f\"Top {n_top} повторяющихся случайных значений\")\n",
    "print(result['random_recommendation'].explode().value_counts().nlargest(n_top).to_dict())\n",
    "print('*'*50)\n",
    "print(f\"Top {n_top} повторяющихся случайных значений, вес пропорционален log(sales_value + 1)\")\n",
    "print(result['logweighted_random_recommendation'].explode().value_counts().nlargest(n_top).to_dict())\n",
    "print('*'*50)\n",
    "print(f\"Top {n_top} повторяющихся случайных значений, вес пропорционален sales_value\")\n",
    "print(result['weighted_random_recommendation'].explode().value_counts().nlargest(n_top).to_dict())"
   ]
  },
  {
   "cell_type": "markdown",
   "id": "0340bc2a",
   "metadata": {},
   "source": [
    "### Задание 2. Улучшение бейзлайнов и ItemItem\n",
    "\n",
    "- Попробуйте улучшить бейзлайны, считая случаный на топ-5000 товаров (*это уже сделано в задании 1*)\n",
    "- Попробуйте улучшить разные варианты ItemItemRecommender, выбирая число соседей $K$."
   ]
  },
  {
   "cell_type": "markdown",
   "id": "2ee29e92",
   "metadata": {},
   "source": [
    "**Примечание** И здесь реализовал не так, как в методичке. Вместо pivot_table для создания матрицы user_id-item_id (заметно) быстрее использовать bsr_matrix. Далее поскольку процесс получения результатов для каждой модели одинаковый, можно реализовать цикл."
   ]
  },
  {
   "cell_type": "code",
   "execution_count": 12,
   "id": "f0c52463",
   "metadata": {},
   "outputs": [
    {
     "name": "stdout",
     "output_type": "stream",
     "text": [
      "Wall time: 475 ms\n"
     ]
    }
   ],
   "source": [
    "%%time\n",
    "# Оставим только транзакции с товарами, входящими в Top-5000\n",
    "user_item_df = (\n",
    "    data_train[data_train['item_id'].isin(top_5000_items_train.index)]\n",
    "    .filter(['user_id', 'item_id', 'quantity'])\n",
    ")\n",
    "\n",
    "# Мапинг user_id / item_id -> индекс строки / столбца матрицы и обратно\n",
    "idx_to_userid = dict(enumerate(user_item_df['user_id'].unique()))\n",
    "userid_to_idx = {item_id: idx for idx, item_id in idx_to_userid.items()}\n",
    "idx_to_itemid = dict(enumerate(user_item_df['item_id'].unique()))\n",
    "itemid_to_idx = {item_id: idx for idx, item_id in idx_to_itemid.items()}\n",
    "\n",
    "user_item_matrix = bsr_matrix(\n",
    "    (user_item_df['quantity'].astype(float),  # data\n",
    "     (user_item_df['user_id'].map(userid_to_idx),  # row\n",
    "      user_item_df['item_id'].map(itemid_to_idx))),  # col\n",
    "    shape=(len(userid_to_idx), len(itemid_to_idx))).sign()  # оставляем 0 или 1\n",
    "\n",
    "sparse_user_item = user_item_matrix.tocsr()\n",
    "sparse_item_user = user_item_matrix.T.tocsr()"
   ]
  },
  {
   "cell_type": "code",
   "execution_count": 13,
   "id": "af0bec14",
   "metadata": {},
   "outputs": [
    {
     "name": "stdout",
     "output_type": "stream",
     "text": [
      "[ 650  729  954 1987 2364]\n"
     ]
    }
   ],
   "source": [
    "# Имеем в виду, что есть пользователи, которые не приобретали товары из TOP-5000\n",
    "# поэтому они не получают рекомендации item-item\n",
    "print(np.setdiff1d(result.index, user_item_df['user_id']))"
   ]
  },
  {
   "cell_type": "code",
   "execution_count": 14,
   "id": "f3367227",
   "metadata": {},
   "outputs": [
    {
     "name": "stdout",
     "output_type": "stream",
     "text": [
      "Wall time: 8.77 s\n"
     ]
    }
   ],
   "source": [
    "%%time\n",
    "# Сравнение моделей\n",
    "models = [\n",
    "    ItemItemRecommender(K=3, num_threads=4),\n",
    "    ItemItemRecommender(K=5, num_threads=4),\n",
    "    ItemItemRecommender(K=7, num_threads=4),\n",
    "    ItemItemRecommender(K=9, num_threads=4),\n",
    "    CosineRecommender(K=5, num_threads=4),\n",
    "    CosineRecommender(K=3, num_threads=4),\n",
    "    TFIDFRecommender(K=3, num_threads=4),\n",
    "    TFIDFRecommender(K=5, num_threads=4),\n",
    "]\n",
    "\n",
    "for model in models:\n",
    "    model.fit(sparse_item_user, show_progress=False)\n",
    "    rec_df = pd.DataFrame(\n",
    "        ([[idx_to_itemid[rec] for rec, _ in\n",
    "           model.recommend(userid=i,\n",
    "                           user_items=sparse_user_item,   # на вход user-item matrix\n",
    "                           N=5, # кол-во рекомендаций\n",
    "                           filter_already_liked_items=False,\n",
    "                           filter_items=None,\n",
    "                           recalculate_user=True)]]\n",
    "         for i in range(len(userid_to_idx))),\n",
    "        index = userid_to_idx,\n",
    "        columns=[f\"{model.__class__.__name__}(K={model.K})\"]\n",
    "    )\n",
    "    result = result.join(rec_df, how='inner')"
   ]
  },
  {
   "cell_type": "markdown",
   "id": "5eb3cb62",
   "metadata": {},
   "source": [
    "### Результат сравнения моделей"
   ]
  },
  {
   "cell_type": "code",
   "execution_count": 15,
   "id": "d0c9ae3e",
   "metadata": {},
   "outputs": [],
   "source": [
    "# Precision@K\n",
    "def precision_at_k(recommended_list, bought_list, k=5):\n",
    "    _rec_list = recommended_list[:k]\n",
    "    _b_and_r = np.intersect1d(bought_list, _rec_list)\n",
    "    return _b_and_r.size / len(_rec_list)\n",
    "\n",
    "def mean_precision_at_k(df, rec, bought, k=5):\n",
    "    _result = df.apply(\n",
    "        lambda row: precision_at_k(row[rec], row[bought], k),\n",
    "        axis=1\n",
    "    )\n",
    "    return np.mean(_result)"
   ]
  },
  {
   "cell_type": "code",
   "execution_count": 16,
   "id": "4d6645dc",
   "metadata": {},
   "outputs": [
    {
     "data": {
      "text/html": [
       "<div>\n",
       "<style scoped>\n",
       "    .dataframe tbody tr th:only-of-type {\n",
       "        vertical-align: middle;\n",
       "    }\n",
       "\n",
       "    .dataframe tbody tr th {\n",
       "        vertical-align: top;\n",
       "    }\n",
       "\n",
       "    .dataframe thead th {\n",
       "        text-align: right;\n",
       "    }\n",
       "</style>\n",
       "<table border=\"1\" class=\"dataframe\">\n",
       "  <thead>\n",
       "    <tr style=\"text-align: right;\">\n",
       "      <th></th>\n",
       "      <th>baseline</th>\n",
       "      <th>precision@5</th>\n",
       "    </tr>\n",
       "  </thead>\n",
       "  <tbody>\n",
       "    <tr>\n",
       "      <th>4</th>\n",
       "      <td>ItemItemRecommender(K=3)</td>\n",
       "      <td>0.170741</td>\n",
       "    </tr>\n",
       "    <tr>\n",
       "      <th>10</th>\n",
       "      <td>TFIDFRecommender(K=3)</td>\n",
       "      <td>0.167861</td>\n",
       "    </tr>\n",
       "    <tr>\n",
       "      <th>7</th>\n",
       "      <td>ItemItemRecommender(K=9)</td>\n",
       "      <td>0.166323</td>\n",
       "    </tr>\n",
       "    <tr>\n",
       "      <th>6</th>\n",
       "      <td>ItemItemRecommender(K=7)</td>\n",
       "      <td>0.165538</td>\n",
       "    </tr>\n",
       "    <tr>\n",
       "      <th>9</th>\n",
       "      <td>CosineRecommender(K=3)</td>\n",
       "      <td>0.161438</td>\n",
       "    </tr>\n",
       "    <tr>\n",
       "      <th>11</th>\n",
       "      <td>TFIDFRecommender(K=5)</td>\n",
       "      <td>0.158370</td>\n",
       "    </tr>\n",
       "    <tr>\n",
       "      <th>5</th>\n",
       "      <td>ItemItemRecommender(K=5)</td>\n",
       "      <td>0.156701</td>\n",
       "    </tr>\n",
       "    <tr>\n",
       "      <th>8</th>\n",
       "      <td>CosineRecommender(K=5)</td>\n",
       "      <td>0.155916</td>\n",
       "    </tr>\n",
       "    <tr>\n",
       "      <th>2</th>\n",
       "      <td>weighted_random_recommendation</td>\n",
       "      <td>0.022189</td>\n",
       "    </tr>\n",
       "    <tr>\n",
       "      <th>1</th>\n",
       "      <td>random_top5k_recommendation</td>\n",
       "      <td>0.004418</td>\n",
       "    </tr>\n",
       "    <tr>\n",
       "      <th>3</th>\n",
       "      <td>logweighted_random_recommendation</td>\n",
       "      <td>0.001375</td>\n",
       "    </tr>\n",
       "    <tr>\n",
       "      <th>0</th>\n",
       "      <td>random_recommendation</td>\n",
       "      <td>0.000884</td>\n",
       "    </tr>\n",
       "  </tbody>\n",
       "</table>\n",
       "</div>"
      ],
      "text/plain": [
       "                             baseline  precision@5\n",
       "4            ItemItemRecommender(K=3)     0.170741\n",
       "10              TFIDFRecommender(K=3)     0.167861\n",
       "7            ItemItemRecommender(K=9)     0.166323\n",
       "6            ItemItemRecommender(K=7)     0.165538\n",
       "9              CosineRecommender(K=3)     0.161438\n",
       "11              TFIDFRecommender(K=5)     0.158370\n",
       "5            ItemItemRecommender(K=5)     0.156701\n",
       "8              CosineRecommender(K=5)     0.155916\n",
       "2      weighted_random_recommendation     0.022189\n",
       "1         random_top5k_recommendation     0.004418\n",
       "3   logweighted_random_recommendation     0.001375\n",
       "0               random_recommendation     0.000884"
      ]
     },
     "execution_count": 16,
     "metadata": {},
     "output_type": "execute_result"
    }
   ],
   "source": [
    "precision_df = pd.DataFrame(\n",
    "    ((baseline, mean_precision_at_k(result, baseline, 'actual'))\n",
    "     for baseline in result.columns[1:]),\n",
    "    columns=['baseline', 'precision@5']\n",
    ")\n",
    "\n",
    "precision_df.sort_values('precision@5', ascending=False)"
   ]
  }
 ],
 "metadata": {
  "kernelspec": {
   "display_name": "Python 3 (ipykernel)",
   "language": "python",
   "name": "python3"
  },
  "language_info": {
   "codemirror_mode": {
    "name": "ipython",
    "version": 3
   },
   "file_extension": ".py",
   "mimetype": "text/x-python",
   "name": "python",
   "nbconvert_exporter": "python",
   "pygments_lexer": "ipython3",
   "version": "3.8.6"
  }
 },
 "nbformat": 4,
 "nbformat_minor": 5
}
